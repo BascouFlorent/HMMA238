{
 "cells": [
  {
   "cell_type": "markdown",
   "metadata": {},
   "source": [
    "\n",
    "# Numba: Compilation \"Just in Time\" (jit)\n",
    "\n",
    "Numba converts Python functions into optimized machine code at runtime using the standard LLVM compiler library. Then the numerical algorithms compiled by Numba in Python can approach the speeds of C or FORTRAN, where the classic loops like in R and matlab, can be a bit slow.\n",
    "\n",
    "https://numba.pydata.org/ see also https://numba.pydata.org/numba-doc/dev/user/jit.html"
   ]
  },
  {
   "cell_type": "code",
   "execution_count": null,
   "metadata": {},
   "outputs": [],
   "source": [
    "import numpy as np\n",
    "import matplotlib.pyplot as plt\n",
    "import time\n",
    "from numba import jit\n",
    "import matplotlib.animation as animation\n",
    "%matplotlib inline\n",
    "from IPython.display import HTML"
   ]
  },
  {
   "cell_type": "markdown",
   "metadata": {},
   "source": [
    "# Example 1: Monte Carlo method to approach $\\pi$\n",
    "See https://numba.pydata.org/numba-doc/dev/glossary.html#term-nopython-mode for why typing `nopython=True` below.\n",
    "\n",
    "The underlying idea of this function is to approximate $\\pi$ using a simple procedure:\n",
    "generate points uniformly at random in the set $[0,1] \\times [0,1]$. Keep only the points whose Euclidean norm is smaller than 1. The ratio of points in this area w.r.t. the total number of points is the ratio between the area of this region and the one of $[0,1] \\times [0,1]$. It is easy to check that this ratio is $\\pi/4$"
   ]
  },
  {
   "cell_type": "code",
   "execution_count": null,
   "metadata": {},
   "outputs": [],
   "source": [
    "fig = plt.figure(figsize=(8,8))\n",
    "circle1 = plt.Circle((0, 0), 1, color='orange')\n",
    "ax = fig.gca()\n",
    "ax.add_artist(circle1)\n",
    "ax.set_aspect('equal')\n",
    "ax.set_xlim([0, 1])\n",
    "ax.set_ylim([0, 1])\n",
    "targeted = 0\n",
    "n_samples = 101\n",
    "lst = np.zeros(n_samples)\n",
    "coordinates = []\n",
    "for sample in range(1, n_samples):\n",
    "    vec = np.random.rand(2)\n",
    "    if np.linalg.norm(vec) < 1.:\n",
    "        plt.plot(vec[0], vec[1], 'ok')\n",
    "        targeted += 1\n",
    "        lst[sample] = 1\n",
    "    else:\n",
    "        plt.plot(vec[0], vec[1], 'xr', markersize=5)\n",
    "    coordinates.append(vec)\n",
    "    ax.set_title('Ratio of points over all draws: {0}/{1}={2}'.format(targeted, sample, targeted/sample))\n",
    "plt.show()"
   ]
  },
  {
   "cell_type": "code",
   "execution_count": null,
   "metadata": {},
   "outputs": [],
   "source": [
    "\n",
    "targeted = 0\n",
    "n_samples = 200\n",
    "lst = np.zeros(n_samples)\n",
    "vec = np.random.rand(2, n_samples)\n",
    "current_ratio = np.zeros(n_samples)\n",
    "for sample in range(n_samples):\n",
    "    if np.linalg.norm(vec[:, sample]) < 1.:\n",
    "        targeted += 1\n",
    "        lst[sample] = 1\n",
    "    current_ratio[sample] = targeted / (sample+1)\n",
    "\n",
    "xdata_in, ydata_in = [], []\n",
    "xdata_out, ydata_out = [], []\n",
    "xconv, yconv = [], []\n",
    "xpoint, ypoint = [], []\n",
    "\n",
    "fig, (ax, ax2) = plt.subplots(1, 2, figsize=(13, 6))\n",
    "\n",
    "ln_in, = ax.plot([], [], 'ok', label='in')\n",
    "ln_out, = ax.plot([], [], 'xr', markersize=8, label='out')\n",
    "line_conv, = ax2.plot([], [], '-', color='k',\n",
    "                      label='Monte Carlo Estimate')\n",
    "point_conv, = ax2.plot([], [], 'o', color='k')\n",
    "\n",
    "ax2.plot(np.arange(n_samples), np.full(\n",
    "    (n_samples,), np.pi/4), '--k', label=r'True Area (Orange part): $\\frac{\\pi}{4}$')\n",
    "\n",
    "\n",
    "def init():\n",
    "    circle1 = plt.Circle((0, 0), 1, color='orange')\n",
    "    ax.add_artist(circle1)\n",
    "    ax.set_aspect('equal')\n",
    "    ax.set_xlim([0, 1])\n",
    "    ax.set_ylim([0, 1])\n",
    "    ax.legend(bbox_to_anchor=(-0.04, 0.75))\n",
    "\n",
    "    ax2.set_xlim([1, n_samples + 1])\n",
    "    ax2.set_ylim([0, 1])\n",
    "    ax2.legend(loc=4)\n",
    "\n",
    "    return ln_in, ln_out, line_conv, point_conv\n",
    "\n",
    "\n",
    "def update(frame):\n",
    "    if lst[frame] > 0.5:\n",
    "        xdata_in.append(vec[0, frame])\n",
    "        ydata_in.append(vec[1, frame])\n",
    "        ln_in.set_data(xdata_in, ydata_in)\n",
    "    else:\n",
    "        xdata_out.append(vec[0, frame])\n",
    "        ydata_out.append(vec[1, frame])\n",
    "        ln_out.set_data(xdata_out, ydata_out)\n",
    "    ax.set_title('Ratio of points over all draws: {0:0.2}'.format(\n",
    "        current_ratio[frame]))\n",
    "    ax2.set_title('Monte Carlo: convergence trough iterates')\n",
    "\n",
    "    xconv.append(frame+1)\n",
    "    yconv.append(current_ratio[frame])\n",
    "\n",
    "    line_conv.set_data(xconv, yconv)\n",
    "    point_conv.set_data(frame+1, current_ratio[frame])\n",
    "    return ln_in, ln_out, line_conv, point_conv\n",
    "\n",
    "\n",
    "ani = animation.FuncAnimation(fig, update, frames=n_samples, interval=150,\n",
    "                              init_func=init, blit=True)\n",
    "# plt.show()"
   ]
  },
  {
   "cell_type": "code",
   "execution_count": null,
   "metadata": {},
   "outputs": [],
   "source": [
    "HTML(ani.to_html5_video())  # Need ffmpeg installed on your machine"
   ]
  },
  {
   "cell_type": "code",
   "execution_count": null,
   "metadata": {},
   "outputs": [],
   "source": [
    "# Reminder: orange area is:\n",
    "np.pi/4"
   ]
  },
  {
   "cell_type": "code",
   "execution_count": null,
   "metadata": {},
   "outputs": [],
   "source": [
    "@jit(nopython=True) \n",
    "def monte_carlo_pi(n_samples=1000):\n",
    "    acc = 0\n",
    "    for sample in range(n_samples):\n",
    "        vec = np.random.rand(2)\n",
    "        if np.linalg.norm(vec) < 1.:\n",
    "            acc += 1\n",
    "    return 4.0 * acc / n_samples "
   ]
  },
  {
   "cell_type": "code",
   "execution_count": null,
   "metadata": {},
   "outputs": [],
   "source": [
    "# DO NOT REPORT THIS... COMPILATION TIME IS INCLUDED IN THE EXECUTION TIME!\n",
    "start = time.time()\n",
    "monte_carlo_pi(n_samples=10000000)\n",
    "end = time.time()\n",
    "print(\"Elapsed (with compilation) = %s\" % (end - start))\n",
    "\n",
    "# NOW THE FUNCTION IS COMPILED, RE-TIME IT EXECUTING FROM CACHE\n",
    "start = time.time()\n",
    "monte_carlo_pi(n_samples=1000)\n",
    "end = time.time()\n",
    "print(\"Elapsed (after compilation) = %s\" % (end - start))"
   ]
  },
  {
   "cell_type": "markdown",
   "metadata": {},
   "source": [
    "# Example 2: matrix function (without using numpy)"
   ]
  },
  {
   "cell_type": "code",
   "execution_count": null,
   "metadata": {},
   "outputs": [],
   "source": [
    "def go_slow(a):  # Function is compiled and runs in machine code\n",
    "    trace = 0\n",
    "    for i in range(a.shape[0]):\n",
    "        trace += a[i, i]\n",
    "    return trace\n",
    "\n",
    "\n",
    "all_n_samples = [1000, 5000, 10000]\n",
    "t0 = []\n",
    "t1 = []\n",
    "t2 = []\n",
    "\n",
    "for n_samples in all_n_samples:\n",
    "    print(n_samples)\n",
    "    x = np.arange(n_samples ** 2).reshape(n_samples, n_samples)\n",
    "\n",
    "    @jit(nopython=True)\n",
    "    def go_fast(a):  # Function is compiled and runs in machine code\n",
    "        trace = 0\n",
    "        for i in range(a.shape[0]):\n",
    "            trace += a[i, i]\n",
    "        return trace\n",
    "    # COMPILATION IS INCLUDED!\n",
    "    start = time.time()\n",
    "    go_fast(x)\n",
    "    end = time.time()\n",
    "    t0.append(end - start)\n",
    "    print(\"Elapsed (with compilation) = %s\" % (end - start))\n",
    "    # COMPILATION IS NOT INCLUDED, RUN FROM CACHE\n",
    "    start = time.time()\n",
    "    go_fast(x)\n",
    "    end = time.time()\n",
    "    t1.append(end - start)\n",
    "    print(\"Elapsed (after compilation) = %s\" % (end - start))\n",
    "    # VANILLA PYTHON\n",
    "    start = time.time()\n",
    "    go_slow(x)\n",
    "    end = time.time()\n",
    "    t2.append(end - start)\n",
    "    print(\"Elapsed (vanilla) = %s\" % (end - start))\n",
    "\n",
    "\n",
    "t0 = np.array(t0)\n",
    "t1 = np.array(t1)\n",
    "t2 = np.array(t2)\n",
    "\n",
    "\n",
    "print(all_n_samples)\n",
    "print(\"Percentage improvements over vanilla code\")\n",
    "print((t0 - t2) / t2 * 100)\n",
    "print((t1 - t2) / t2 * 100)"
   ]
  },
  {
   "cell_type": "markdown",
   "metadata": {},
   "source": [
    "# Example 3: Gradient descent with / without numba"
   ]
  },
  {
   "cell_type": "code",
   "execution_count": null,
   "metadata": {},
   "outputs": [],
   "source": [
    "n_samples = 1000\n",
    "n_features = 500\n",
    "n_iterations = 2000\n",
    "\n",
    "X = np.random.randn(n_samples, n_features)\n",
    "y = np.random.randn(n_samples)\n",
    "y[n_samples // 2:] = 0\n",
    "\n",
    "w = np.zeros(n_features)  # init = 0"
   ]
  },
  {
   "cell_type": "code",
   "execution_count": null,
   "metadata": {},
   "outputs": [],
   "source": [
    "@jit(nopython=True)\n",
    "# Function is compiled and runs in machine code\n",
    "def gradient(X, y, w, step_size=0.01,  max_iter=1000):\n",
    "    \"\"\"Gradient descent with constant step size.\"\"\"\n",
    "    for k in range(max_iter):\n",
    "        w -=  step_size * (X.T.dot(X.dot(w) - y))\n",
    "    return w\n",
    "\n",
    "# DO NOT REPORT THIS... COMPILATION TIME IS INCLUDED IN THE EXECUTION TIME!\n",
    "start = time.time()\n",
    "gradient(X, y, w)\n",
    "end = time.time()\n",
    "print(\"Elapsed (with compilation) = %s\" % (end - start))\n",
    "\n",
    "# NOW THE FUNCTION IS COMPILED, RE-TIME IT EXECUTING FROM CACHE\n",
    "start = time.time()\n",
    "gradient(X, y, w)\n",
    "end = time.time()\n",
    "print(\"Elapsed (after compilation) = %s\" % (end - start))"
   ]
  },
  {
   "cell_type": "markdown",
   "metadata": {},
   "source": [
    "# Example 4: Logistic regression"
   ]
  },
  {
   "cell_type": "code",
   "execution_count": null,
   "metadata": {},
   "outputs": [],
   "source": [
    "y = np.random.randint(2, size=n_samples) *2 -1\n",
    "print(y)\n",
    "w = np.zeros(n_features)  # init = 0"
   ]
  },
  {
   "cell_type": "code",
   "execution_count": null,
   "metadata": {},
   "outputs": [],
   "source": [
    "def logistic_regression_no_jit(y, X, w, iterations=1000):\n",
    "    for i in range(iterations):\n",
    "        w -= np.dot(((1.0 / (1.0 + np.exp(-y * np.dot(X, w))) - 1.0) * y), X)\n",
    "    return w"
   ]
  },
  {
   "cell_type": "code",
   "execution_count": null,
   "metadata": {},
   "outputs": [],
   "source": [
    "start = time.time()\n",
    "logistic_regression_no_jit(y, X, w, iterations=n_iterations )\n",
    "end = time.time()\n",
    "print(\"Elapsed (with compilation) = %s\" % (end - start))\n"
   ]
  },
  {
   "cell_type": "code",
   "execution_count": null,
   "metadata": {},
   "outputs": [],
   "source": [
    "@jit(nopython=True)\n",
    "def logistic_regression(y, X, w, iterations=1000):\n",
    "    for i in range(iterations):\n",
    "        w -= np.dot(((1.0 / (1.0 + np.exp(-y * np.dot(X, w))) - 1.0) * y), X)\n",
    "    return w"
   ]
  },
  {
   "cell_type": "code",
   "execution_count": null,
   "metadata": {},
   "outputs": [],
   "source": [
    "# DO NOT REPORT THIS... COMPILATION TIME IS INCLUDED IN THE EXECUTION TIME!\n",
    "start = time.time()\n",
    "logistic_regression(y, X, w, iterations=n_iterations)\n",
    "end = time.time()\n",
    "print(\"Elapsed (with compilation) = %s\" % (end - start))\n",
    "\n",
    "# NOW THE FUNCTION IS COMPILED, RE-TIME IT EXECUTING FROM CACHE\n",
    "start = time.time()\n",
    "logistic_regression(y, X, w, iterations=n_iterations)\n",
    "end = time.time()\n",
    "print(\"Elapsed (after compilation) = %s\" % (end - start))"
   ]
  },
  {
   "cell_type": "markdown",
   "metadata": {
    "collapsed": true
   },
   "source": [
    "### For  more on numba:\n",
    "\n",
    "Parallelization: https://numba.pydata.org/numba-doc/dev/user/parallel.html"
   ]
  }
 ],
 "metadata": {
  "hide_input": false,
  "kernelspec": {
   "display_name": "Python 3",
   "language": "python",
   "name": "python3"
  },
  "language_info": {
   "codemirror_mode": {
    "name": "ipython",
    "version": 3
   },
   "file_extension": ".py",
   "mimetype": "text/x-python",
   "name": "python",
   "nbconvert_exporter": "python",
   "pygments_lexer": "ipython3",
   "version": "3.7.3"
  },
  "toc": {
   "base_numbering": 1,
   "nav_menu": {},
   "number_sections": false,
   "sideBar": true,
   "skip_h1_title": false,
   "title_cell": "Table of Contents",
   "title_sidebar": "Contents",
   "toc_cell": false,
   "toc_position": {},
   "toc_section_display": "block",
   "toc_window_display": true
  }
 },
 "nbformat": 4,
 "nbformat_minor": 2
}
