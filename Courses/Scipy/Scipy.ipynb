{
 "cells": [
  {
   "cell_type": "markdown",
   "metadata": {},
   "source": [
    "# SciPy - Librairie d'algorithmes pour le calcul scientifique en Python\n",
    "\n",
    "      Joseph Salmon : joseph.salmon@umontpellier.fr\n",
    "\n",
    "Adapté du travail de \n",
    "\n",
    "- A. Gramfort (alexandre.gramfort@inria.fr) http://alexandre.gramfort.net/\n",
    "- J.R. Johansson (robert@riken.jp) http://dml.riken.jp/~rob/"
   ]
  },
  {
   "cell_type": "markdown",
   "metadata": {},
   "source": [
    "## Introduction\n",
    "\n",
    "SciPy s'appuie sur NumPy.\n",
    "\n",
    "SciPy fournit des implémentations efficaces d'algorithmes standards.\n",
    "\n",
    "Certains des sujets couverts par SciPy:\n",
    "\n",
    "* Fonctions Spéciales ([scipy.special](http://docs.scipy.org/doc/scipy/reference/special.html))\n",
    "* Intégration ([scipy.integrate](http://docs.scipy.org/doc/scipy/reference/integrate.html))\n",
    "* Optimisation ([scipy.optimize](http://docs.scipy.org/doc/scipy/reference/optimize.html))\n",
    "* Interpolation ([scipy.interpolate](http://docs.scipy.org/doc/scipy/reference/interpolate.html))\n",
    "* Transformées de Fourier ([scipy.fftpack](http://docs.scipy.org/doc/scipy/reference/fftpack.html))\n",
    "* Traitement du Signal ([scipy.signal](http://docs.scipy.org/doc/scipy/reference/signal.html))\n",
    "* Algèbre Linéaire ([scipy.linalg](http://docs.scipy.org/doc/scipy/reference/linalg.html))\n",
    "* Matrices *Sparses* et Algèbre Linéaire Sparse ([scipy.sparse](http://docs.scipy.org/doc/scipy/reference/sparse.html))\n",
    "* Statistiques ([scipy.stats](http://docs.scipy.org/doc/scipy/reference/stats.html))\n",
    "* Traitement d'images N-dimensionelles ([scipy.ndimage](http://docs.scipy.org/doc/scipy/reference/ndimage.html))\n",
    "* Lecture/Ecriture Fichiers IO ([scipy.io](http://docs.scipy.org/doc/scipy/reference/io.html))\n",
    "\n",
    "Durant ce cours on abordera certains de ces modules.\n",
    "\n",
    "Pour utiliser un module de SciPy dans un programme Python il faut commencer par l'importer.\n",
    "\n",
    "Voici un exemple avec le module *linalg*"
   ]
  },
  {
   "cell_type": "code",
   "execution_count": null,
   "metadata": {},
   "outputs": [],
   "source": [
    "from scipy import linalg"
   ]
  },
  {
   "cell_type": "markdown",
   "metadata": {},
   "source": [
    "On aura besoin de NumPy:"
   ]
  },
  {
   "cell_type": "code",
   "execution_count": null,
   "metadata": {},
   "outputs": [],
   "source": [
    "import numpy as np"
   ]
  },
  {
   "cell_type": "markdown",
   "metadata": {},
   "source": [
    "Et de matplotlib/pylab:"
   ]
  },
  {
   "cell_type": "code",
   "execution_count": null,
   "metadata": {},
   "outputs": [],
   "source": [
    "%matplotlib notebook\n",
    "import matplotlib.pyplot as plt"
   ]
  },
  {
   "cell_type": "markdown",
   "metadata": {},
   "source": [
    "## Fonctions Spéciales\n",
    "\n",
    "Un grand nombre de fonctions importantes, notamment en physique, sont disponibles dans le module *scipy.special*\n",
    "\n",
    "Pour plus de détails: http://docs.scipy.org/doc/scipy/reference/special.html#module-scipy.special. \n",
    "\n",
    "One special example: the Bessel functions."
   ]
  },
  {
   "cell_type": "code",
   "execution_count": null,
   "metadata": {},
   "outputs": [],
   "source": [
    "# jn : Bessel de premier type\n",
    "# yn : Bessel de deuxième type\n",
    "from scipy.special import jn, yn"
   ]
  },
  {
   "cell_type": "code",
   "execution_count": null,
   "metadata": {},
   "outputs": [],
   "source": [
    "# jn?"
   ]
  },
  {
   "cell_type": "code",
   "execution_count": null,
   "metadata": {},
   "outputs": [],
   "source": [
    "n = 0    # ordre\n",
    "x = 0.0\n",
    "\n",
    "# Bessel de premier type\n",
    "print(\"J_%d(%s) = %f\" % (n, x, jn(n, x)))\n",
    "\n",
    "x = 1.0\n",
    "# Bessel de deuxième type\n",
    "print(\"Y_%d(%s) = %f\" % (n, x, yn(n, x)))"
   ]
  },
  {
   "cell_type": "code",
   "execution_count": null,
   "metadata": {},
   "outputs": [],
   "source": [
    "x = np.linspace(0, 10, 100)\n",
    "\n",
    "for n in range(4):\n",
    "    plt.plot(x, jn(n, x), label=r\"$J_%d(x)$\" % n)\n",
    "plt.legend()"
   ]
  },
  {
   "cell_type": "code",
   "execution_count": null,
   "metadata": {},
   "outputs": [],
   "source": [
    "from scipy import special\n",
    "# special?"
   ]
  },
  {
   "cell_type": "markdown",
   "metadata": {},
   "source": [
    "## Intégration\n",
    "\n",
    "### intégration numerique\n",
    "\n",
    "L'évaluation numérique de:\n",
    "\n",
    "$\\displaystyle \\int_a^b f(x) dx$\n",
    "\n",
    "est nommée *quadrature* (abbr. quad). SciPy fournit différentes fonctions: par exemple `quad`, `dblquad` et `tplquad` pour les intégrales simples, doubles ou triples."
   ]
  },
  {
   "cell_type": "code",
   "execution_count": null,
   "metadata": {},
   "outputs": [],
   "source": [
    "from scipy.integrate import quad, dblquad, tplquad"
   ]
  },
  {
   "cell_type": "code",
   "execution_count": null,
   "metadata": {},
   "outputs": [],
   "source": [
    "# quad?"
   ]
  },
  {
   "cell_type": "markdown",
   "metadata": {},
   "source": [
    "L'usage de base:"
   ]
  },
  {
   "cell_type": "code",
   "execution_count": null,
   "metadata": {},
   "outputs": [],
   "source": [
    "# soit une fonction f\n",
    "def f(x):\n",
    "    return x"
   ]
  },
  {
   "cell_type": "code",
   "execution_count": null,
   "metadata": {},
   "outputs": [],
   "source": [
    "a, b = 1, 2\n",
    "\n",
    "val, abserr = quad(f, a, b)  # intégrale entre a et b\n",
    "\n",
    "print(\"intégrale =\", val, \", erreur =\", abserr)"
   ]
  },
  {
   "cell_type": "code",
   "execution_count": null,
   "metadata": {},
   "outputs": [],
   "source": [
    "# dblquad?"
   ]
  },
  {
   "cell_type": "markdown",
   "metadata": {},
   "source": [
    "### <font color='red'> EXERCISE : Bessel function</font>\n",
    "\n",
    "\n",
    "Compute the integral of the Bessel function `jn` of order 3 from 0 to 10."
   ]
  },
  {
   "cell_type": "markdown",
   "metadata": {},
   "source": [
    "Exemple intégrale double:"
   ]
  },
  {
   "cell_type": "markdown",
   "metadata": {},
   "source": [
    "$\\int_{x=1}^{2} \\int_{y=1}^{x} (x + y^2) dx dy$"
   ]
  },
  {
   "cell_type": "code",
   "execution_count": null,
   "metadata": {},
   "outputs": [],
   "source": [
    "def f(y, x):\n",
    "    return x + y**2\n",
    "\n",
    "def gfun(x):\n",
    "    return 1\n",
    "\n",
    "def hfun(x):\n",
    "    return x\n",
    "\n",
    "print(dblquad(f, 1, 2, gfun, hfun))"
   ]
  },
  {
   "cell_type": "markdown",
   "metadata": {},
   "source": [
    "### Equations différentielles ordinaires (EDO)\n",
    "\n",
    "SciPy fournit deux façons de résoudre les EDO: Une API basée sur la fonction `odeint`, et une API orientée-objet basée sur la classe `ode`.\n",
    "\n",
    "`odeint` est plus simple pour commencer.\n",
    "\n",
    "Commençons par l'importer:"
   ]
  },
  {
   "cell_type": "code",
   "execution_count": null,
   "metadata": {},
   "outputs": [],
   "source": [
    "from scipy.integrate import odeint"
   ]
  },
  {
   "cell_type": "markdown",
   "metadata": {},
   "source": [
    "Un système d'EDO se formule de la façon standard:\n",
    "\n",
    "$y' = f(y, t)$\n",
    "\n",
    "avec \n",
    "\n",
    "$y = [y_1(t), y_2(t), ..., y_n(t)]$ \n",
    "\n",
    "et $f$ est une fonction qui fournit les dérivées des fonctions $y_i(t)$. Pour résoudre une EDO il faut spécifier $f$ et les conditions initiales, $y(0)$.\n",
    "\n",
    "Une fois définies, on peut utiliser `odeint`:\n",
    "\n",
    "    y_t = odeint(f, y_0, t)\n",
    "\n",
    "où `t` est un NumPy *array* des coordonnées en temps où résoudre l'EDO. `y_t` est un array avec une ligne pour chaque point du temps `t`, et chaque colonne correspond à la solution `y_i(t)` à chaque point du temps. "
   ]
  },
  {
   "cell_type": "markdown",
   "metadata": {},
   "source": [
    "#### Exemple: double pendule"
   ]
  },
  {
   "cell_type": "markdown",
   "metadata": {},
   "source": [
    "Description: http://en.wikipedia.org/wiki/Double_pendulum"
   ]
  },
  {
   "cell_type": "code",
   "execution_count": null,
   "metadata": {},
   "outputs": [],
   "source": [
    "from IPython.core.display import Image\n",
    "Image(url='http://upload.wikimedia.org/wikipedia/commons/c/c9/Double-compound-pendulum-dimensioned.svg')"
   ]
  },
  {
   "cell_type": "markdown",
   "metadata": {},
   "source": [
    "Les équations du mouvement du pendule sont données sur la page wikipedia:\n",
    "\n",
    "${\\dot \\theta_1} = \\frac{6}{m\\ell^2} \\frac{ 2 p_{\\theta_1} - 3 \\cos(\\theta_1-\\theta_2) p_{\\theta_2}}{16 - 9 \\cos^2(\\theta_1-\\theta_2)}$\n",
    "\n",
    "${\\dot \\theta_2} = \\frac{6}{m\\ell^2} \\frac{ 8 p_{\\theta_2} - 3 \\cos(\\theta_1-\\theta_2) p_{\\theta_1}}{16 - 9 \\cos^2(\\theta_1-\\theta_2)}.$\n",
    "\n",
    "${\\dot p_{\\theta_1}} = -\\frac{1}{2} m \\ell^2 \\left [ {\\dot \\theta_1} {\\dot \\theta_2} \\sin (\\theta_1-\\theta_2) + 3 \\frac{g}{\\ell} \\sin \\theta_1 \\right ]$\n",
    "\n",
    "${\\dot p_{\\theta_2}} = -\\frac{1}{2} m \\ell^2 \\left [ -{\\dot \\theta_1} {\\dot \\theta_2} \\sin (\\theta_1-\\theta_2) +  \\frac{g}{\\ell} \\sin \\theta_2 \\right]$\n",
    "\n",
    "où les $p_{\\theta_i}$ sont les moments d'inertie. Pour simplifier le code Python, on peut introduire la variable $x = [\\theta_1, \\theta_2, p_{\\theta_1}, p_{\\theta_2}]$\n",
    "\n",
    "${\\dot x_1} = \\frac{6}{m\\ell^2} \\frac{ 2 x_3 - 3 \\cos(x_1-x_2) x_4}{16 - 9 \\cos^2(x_1-x_2)}$\n",
    "\n",
    "${\\dot x_2} = \\frac{6}{m\\ell^2} \\frac{ 8 x_4 - 3 \\cos(x_1-x_2) x_3}{16 - 9 \\cos^2(x_1-x_2)}$\n",
    "\n",
    "${\\dot x_3} = -\\frac{1}{2} m \\ell^2 \\left [ {\\dot x_1} {\\dot x_2} \\sin (x_1-x_2) + 3 \\frac{g}{\\ell} \\sin x_1 \\right ]$\n",
    "\n",
    "${\\dot x_4} = -\\frac{1}{2} m \\ell^2 \\left [ -{\\dot x_1} {\\dot x_2} \\sin (x_1-x_2) +  \\frac{g}{\\ell} \\sin x_2 \\right]$"
   ]
  },
  {
   "cell_type": "code",
   "execution_count": null,
   "metadata": {},
   "outputs": [],
   "source": [
    "g = 9.82\n",
    "L = 0.5\n",
    "m = 0.1\n",
    "\n",
    "def dx(x, t):\n",
    "    \"\"\"The right-hand side of the pendulum ODE\"\"\"\n",
    "    x1, x2, x3, x4 = x[0], x[1], x[2], x[3]\n",
    "    \n",
    "    dx1 = 6.0/(m*L**2) * (2 * x3 - 3 * np.cos(x1-x2) * x4)/(16 - 9 * np.cos(x1-x2)**2)\n",
    "    dx2 = 6.0/(m*L**2) * (8 * x4 - 3 * np.cos(x1-x2) * x3)/(16 - 9 * np.cos(x1-x2)**2)\n",
    "    dx3 = -0.5 * m * L**2 * ( dx1 * dx2 * np.sin(x1-x2) + 3 * (g/L) * np.sin(x1))\n",
    "    dx4 = -0.5 * m * L**2 * (-dx1 * dx2 * np.sin(x1-x2) + (g/L) * np.sin(x2))\n",
    "    \n",
    "    return [dx1, dx2, dx3, dx4]"
   ]
  },
  {
   "cell_type": "code",
   "execution_count": null,
   "metadata": {},
   "outputs": [],
   "source": [
    "# on choisit une condition initiale\n",
    "x0 = [np.pi/4, np.pi/2, 0, 0]"
   ]
  },
  {
   "cell_type": "code",
   "execution_count": null,
   "metadata": {},
   "outputs": [],
   "source": [
    "# les instants du temps: de 0 à 10 secondes\n",
    "t = np.linspace(0, 10, 200)"
   ]
  },
  {
   "cell_type": "code",
   "execution_count": null,
   "metadata": {},
   "outputs": [],
   "source": [
    "# On résout\n",
    "x = odeint(dx, x0, t)\n",
    "print(x.shape)"
   ]
  },
  {
   "cell_type": "code",
   "execution_count": null,
   "metadata": {},
   "outputs": [],
   "source": [
    "# affichage des angles en fonction du temps\n",
    "fig, axes = plt.subplots(1, 2, figsize=(8, 4))\n",
    "axes[0].plot(t, x[:, 0], 'r', label=\"theta1\")\n",
    "axes[0].plot(t, x[:, 1], 'b', label=\"theta2\")\n",
    "axes[0].set_title(\"Angular evolution\")\n",
    "\n",
    "\n",
    "x1 = + L * np.sin(x[:, 0])\n",
    "y1 = - L * np.cos(x[:, 0])\n",
    "x2 = x1 + L * np.sin(x[:, 1])\n",
    "y2 = y1 - L * np.cos(x[:, 1])\n",
    "\n",
    "# axes[1].plot(x1, y1, 'r', label=\"pendulum1\")\n",
    "axes[1].set_ylim([-1, 0])\n",
    "axes[1].set_xlim([1, -1])\n",
    "axes[1].set_title(\"Space evolution\")\n",
    "for i in range(len(t)-1):\n",
    "    axes[1].plot(x2[i:i+2], y2[i:i+2], '-', color='blue',alpha=1)\n",
    "    axes[1].plot(x1[i], y1[i], '.', color='red', label=\"pendulum1\", alpha=0.5)\n",
    "    fig.canvas.draw()\n",
    "    fig.canvas.flush_events()\n",
    "    plt.pause(0.001)"
   ]
  },
  {
   "cell_type": "markdown",
   "metadata": {},
   "source": [
    "### <font color='red'> EXERCISE : alpha and time </font>\n",
    "Modify the code above so that on the right plot the older point in time are more transparent than the new ones.\n"
   ]
  },
  {
   "cell_type": "markdown",
   "metadata": {},
   "source": [
    "## Algèbre linéaire\n",
    "\n",
    "Le module de SciPy pour l'algèbre linéaire est `linalg`. Il inclut des routines pour la résolution des systèmes linéaires, recherche de vecteurs/valeurs propres, SVD, Pivot de Gauss (LU, cholesky), calcul de déterminant etc.\n",
    "\n",
    "Documentation : http://docs.scipy.org/doc/scipy/reference/linalg.html"
   ]
  },
  {
   "cell_type": "markdown",
   "metadata": {},
   "source": [
    "#### Résolution d'equations linéaires\n",
    "\n",
    "Trouver x tel que:\n",
    "\n",
    "$A x = b$\n",
    "\n",
    "avec $A$ une matrice et $x,b$ des vecteurs."
   ]
  },
  {
   "cell_type": "code",
   "execution_count": null,
   "metadata": {},
   "outputs": [],
   "source": [
    "A = np.array([[1,0,3], [4,5,12], [7,8,9]], dtype=np.float)\n",
    "b = np.array([[1,2,3]], dtype=np.float).T\n",
    "print(A)\n",
    "print(b)"
   ]
  },
  {
   "cell_type": "code",
   "execution_count": null,
   "metadata": {},
   "outputs": [],
   "source": [
    "from scipy import linalg\n",
    "x = linalg.solve(A, b)\n",
    "print(x)"
   ]
  },
  {
   "cell_type": "code",
   "execution_count": null,
   "metadata": {},
   "outputs": [],
   "source": [
    "print(x.shape)\n",
    "print(b.shape)"
   ]
  },
  {
   "cell_type": "code",
   "execution_count": null,
   "metadata": {},
   "outputs": [],
   "source": [
    "# Check the result\n",
    "np.allclose(A @ x,b, atol=1e-18, rtol=1e-30)"
   ]
  },
  {
   "cell_type": "markdown",
   "metadata": {},
   "source": [
    "**Remark**: NEVER (or you should really know why) invert a matrix. ALWAYS solve linear systems instead!"
   ]
  },
  {
   "cell_type": "markdown",
   "metadata": {},
   "source": [
    "#### Valeurs propres et vecteurs propres"
   ]
  },
  {
   "cell_type": "markdown",
   "metadata": {},
   "source": [
    "$\\displaystyle A v_n = \\lambda_n v_n$\n",
    "\n",
    "avec $v_n$ le $n$ème vecteur propre et $\\lambda_n$ la $n$ème valeur propre.\n",
    "\n",
    "Les fonctions sont: `eigvals` et `eig`"
   ]
  },
  {
   "cell_type": "code",
   "execution_count": null,
   "metadata": {},
   "outputs": [],
   "source": [
    "A = np.random.randn(3, 3)"
   ]
  },
  {
   "cell_type": "code",
   "execution_count": null,
   "metadata": {},
   "outputs": [],
   "source": [
    "evals, evecs = linalg.eig(A)"
   ]
  },
  {
   "cell_type": "code",
   "execution_count": null,
   "metadata": {},
   "outputs": [],
   "source": [
    "evals"
   ]
  },
  {
   "cell_type": "code",
   "execution_count": null,
   "metadata": {},
   "outputs": [],
   "source": [
    "evecs"
   ]
  },
  {
   "cell_type": "markdown",
   "metadata": {},
   "source": [
    "### <font color='red'> EXERCISE : Eigen values/vectors</font>\n",
    "\n",
    "\n",
    "Verify numerically that the output from linalg.eig are indeed approximately eigen values and eigen vectors of the matrix A above.\n",
    "\n",
    "*Hint* : use https://docs.scipy.org/doc/numpy/reference/generated/numpy.allclose.html"
   ]
  },
  {
   "cell_type": "markdown",
   "metadata": {},
   "source": [
    "If A is symmetric you **should** use `eigvalsh` (H for Hermitian) instead. More robust"
   ]
  },
  {
   "cell_type": "code",
   "execution_count": null,
   "metadata": {},
   "outputs": [],
   "source": [
    "A = A + A.T\n",
    "evals = linalg.eigvalsh(A)\n",
    "print(evals)"
   ]
  },
  {
   "cell_type": "code",
   "execution_count": null,
   "metadata": {},
   "outputs": [],
   "source": [
    "print(linalg.eigh(A))"
   ]
  },
  {
   "cell_type": "markdown",
   "metadata": {},
   "source": [
    "#### Opérations matricielles"
   ]
  },
  {
   "cell_type": "code",
   "execution_count": null,
   "metadata": {},
   "outputs": [],
   "source": [
    "# inversion: please never use that :)\n",
    "linalg.inv(A)"
   ]
  },
  {
   "cell_type": "code",
   "execution_count": null,
   "metadata": {},
   "outputs": [],
   "source": [
    "# déterminant\n",
    "linalg.det(A)"
   ]
  },
  {
   "cell_type": "code",
   "execution_count": null,
   "metadata": {},
   "outputs": [],
   "source": [
    "# normes\n",
    "print(linalg.norm(A, ord='fro'))  # fro for Frobenius\n",
    "print((np.sum(A**2))**0.5)\n",
    "print(linalg.norm(A, ord=2))\n",
    "print((linalg.eigvalsh(A.T@A)**0.5))\n",
    "print(linalg.norm(A, ord=np.inf))"
   ]
  },
  {
   "cell_type": "markdown",
   "metadata": {},
   "source": [
    "### <font color='red'> EXERCISE : Norms computation</font>\n",
    "Check numerically what is the instruction  `linalg.norm(A, ord=np.inf)` really computing.\n",
    "Double check with the help, and a numerical test."
   ]
  },
  {
   "cell_type": "markdown",
   "metadata": {},
   "source": [
    "## Optimisation\n",
    "\n",
    "**Objectif**: trouver les minima ou maxima d'une fonction\n",
    "\n",
    "Doc : http://scipy-lectures.github.com/advanced/mathematical_optimization/index.html\n",
    "\n",
    "On commence par l'import"
   ]
  },
  {
   "cell_type": "code",
   "execution_count": null,
   "metadata": {},
   "outputs": [],
   "source": [
    "from scipy import optimize"
   ]
  },
  {
   "cell_type": "markdown",
   "metadata": {},
   "source": [
    "### Trouver un minimum"
   ]
  },
  {
   "cell_type": "code",
   "execution_count": null,
   "metadata": {},
   "outputs": [],
   "source": [
    "def f(x):\n",
    "    return 4*x**3 + (x-2)**2 + x**4"
   ]
  },
  {
   "cell_type": "code",
   "execution_count": null,
   "metadata": {},
   "outputs": [],
   "source": [
    "x = np.linspace(-5, 3, 100)\n",
    "plt.figure()\n",
    "plt.plot(x, f(x))\n",
    "plt.show()"
   ]
  },
  {
   "cell_type": "markdown",
   "metadata": {},
   "source": [
    "Nous allons utiliser la fonction `fmin_bfgs`:"
   ]
  },
  {
   "cell_type": "code",
   "execution_count": null,
   "metadata": {},
   "outputs": [],
   "source": [
    "x_min = optimize.fmin_bfgs(f, x0=3)\n",
    "plt.figure()\n",
    "plt.plot(x, f(x))\n",
    "plt.plot(x_min, f(x_min),'o')\n",
    "plt.show()"
   ]
  },
  {
   "cell_type": "markdown",
   "metadata": {},
   "source": [
    "### <font color='red'> EXERCISE : Bassin of attraction</font>\n",
    "\n",
    "Draw the points on the curves with 2 different colors : orange for the points leading to find the left local minima, and red for the points leading to the right local minima.\n"
   ]
  },
  {
   "cell_type": "code",
   "execution_count": null,
   "metadata": {},
   "outputs": [],
   "source": [
    "grid = np.linspace(-5,3,num=100)\n",
    "x_gauche = optimize.fmin_bfgs(f, x0=-3, disp=False)[0]\n",
    "x_droite = optimize.fmin_bfgs(f, x0=3, disp=False)[0]\n",
    "print(x_droite,x_gauche)\n",
    "\n",
    "# XXX"
   ]
  },
  {
   "cell_type": "markdown",
   "metadata": {},
   "source": [
    "### Find the zeros of a function\n",
    "\n",
    "Find $x$ such that $f(x) = 0$, with `fsolve`."
   ]
  },
  {
   "cell_type": "code",
   "execution_count": null,
   "metadata": {},
   "outputs": [],
   "source": [
    "omega_c = 3.0\n",
    "def f(omega):\n",
    "    return np.tan(2*np.pi*omega) - omega_c / omega"
   ]
  },
  {
   "cell_type": "code",
   "execution_count": null,
   "metadata": {},
   "outputs": [],
   "source": [
    "x = np.linspace(1e-8, 3.2, 1000)\n",
    "y = f(x)\n",
    "mask = np.where(np.abs(y) > 50)\n",
    "x[mask] = y[mask] = np.nan # get rid of vertical line when the function flip sign\n",
    "plt.figure()\n",
    "plt.plot(x, y)\n",
    "plt.plot([0, 3.3], [0, 0], 'k')\n",
    "plt.ylim(-5,5)"
   ]
  },
  {
   "cell_type": "code",
   "execution_count": null,
   "metadata": {},
   "outputs": [],
   "source": [
    "optimize.fsolve(f, 0.72)"
   ]
  },
  {
   "cell_type": "code",
   "execution_count": null,
   "metadata": {},
   "outputs": [],
   "source": [
    "optimize.fsolve(f, 1.1)"
   ]
  },
  {
   "cell_type": "code",
   "execution_count": null,
   "metadata": {},
   "outputs": [],
   "source": [
    "optimize.fsolve(f, np.linspace(0.001, 3, 20))"
   ]
  },
  {
   "cell_type": "code",
   "execution_count": null,
   "metadata": {},
   "outputs": [],
   "source": [
    "np.unique(np.round(optimize.fsolve(f, np.linspace(0.2, 3, 20)), 3))"
   ]
  },
  {
   "cell_type": "code",
   "execution_count": null,
   "metadata": {},
   "outputs": [],
   "source": []
  },
  {
   "cell_type": "code",
   "execution_count": null,
   "metadata": {},
   "outputs": [],
   "source": [
    "my_zeros = np.unique((optimize.fsolve(f, np.linspace(0.2, 3, 20)) * 1000).astype(int)) / 1000.\n",
    "plt.figure()\n",
    "plt.plot(x, y, label='$f$')\n",
    "plt.plot([0, 3.3], [0, 0], 'k')\n",
    "plt.plot(my_zeros,np.zeros(my_zeros.shape),'o', label='$x : f(x)=0$')\n",
    "plt.legend()\n",
    "plt.show()"
   ]
  },
  {
   "cell_type": "markdown",
   "metadata": {},
   "source": [
    "#### Estimation de paramètres de fonctions"
   ]
  },
  {
   "cell_type": "code",
   "execution_count": null,
   "metadata": {},
   "outputs": [],
   "source": [
    "from scipy.optimize import curve_fit\n",
    "\n",
    "\n",
    "def f(x, a, b, c):\n",
    "    \"\"\"\n",
    "    f(x) = a exp(-bx) + c\n",
    "    \"\"\"\n",
    "    return a*np.exp(-b*x) + c\n",
    "\n",
    "\n",
    "x = np.linspace(0, 4, 50)\n",
    "y = f(x, 2.5, 1.3, 0.5)  # true signal\n",
    "yn = y + 0.2*np.random.randn(len(x))  # noisy added"
   ]
  },
  {
   "cell_type": "code",
   "execution_count": null,
   "metadata": {},
   "outputs": [],
   "source": [
    "plt.figure()\n",
    "plt.plot(x, yn,'.')\n",
    "plt.plot(x, y, 'k', label='$f$')\n",
    "plt.legend()"
   ]
  },
  {
   "cell_type": "code",
   "execution_count": null,
   "metadata": {},
   "outputs": [],
   "source": [
    "(a, b, c), _ = curve_fit(f, x, yn)\n",
    "print(a, b, c)"
   ]
  },
  {
   "cell_type": "code",
   "execution_count": null,
   "metadata": {},
   "outputs": [],
   "source": [
    "# curve_fit?"
   ]
  },
  {
   "cell_type": "markdown",
   "metadata": {},
   "source": [
    "On affiche la fonction estimée:"
   ]
  },
  {
   "cell_type": "code",
   "execution_count": null,
   "metadata": {},
   "outputs": [],
   "source": [
    "plt.figure()\n",
    "plt.plot(x, yn, '.', label='data')\n",
    "plt.plot(x, y, 'k', label='True $f$')\n",
    "plt.plot(x, f(x, a, b, c),'--k', label='Estimated $\\hat{f}$')\n",
    "plt.legend()\n",
    "plt.show()"
   ]
  },
  {
   "cell_type": "markdown",
   "metadata": {},
   "source": [
    "Dans le cas de polynômes on peut le faire directement avec NumPy"
   ]
  },
  {
   "cell_type": "code",
   "execution_count": null,
   "metadata": {},
   "outputs": [],
   "source": [
    "x = np.linspace(0,1,10)\n",
    "y = np.sin(x * np.pi / 2.)\n",
    "line = np.polyfit(x, y, deg=10)\n",
    "plt.figure()\n",
    "plt.plot(x, y, '.', label='data')\n",
    "plt.plot(x, np.polyval(line,x), 'k--', label='polynomial approximation')\n",
    "plt.legend()\n",
    "plt.show()\n",
    "# xx = np.linspace(-5,4,100)\n",
    "# plt.plot(xx, np.polyval(line,xx), 'g')"
   ]
  },
  {
   "cell_type": "markdown",
   "metadata": {},
   "source": [
    "## Interpolation"
   ]
  },
  {
   "cell_type": "code",
   "execution_count": null,
   "metadata": {},
   "outputs": [],
   "source": [
    "from scipy.interpolate import interp1d"
   ]
  },
  {
   "cell_type": "code",
   "execution_count": null,
   "metadata": {},
   "outputs": [],
   "source": [
    "def f(x):\n",
    "    return np.sin(x)"
   ]
  },
  {
   "cell_type": "code",
   "execution_count": null,
   "metadata": {},
   "outputs": [],
   "source": [
    "n = np.arange(0, 10)  \n",
    "x = np.linspace(0, 9, 100)\n",
    "\n",
    "y_meas = f(n) + 0.1 * np.random.randn(len(n)) # ajout de bruit\n",
    "y_real = f(x)\n",
    "\n",
    "linear_interpolation = interp1d(n, y_meas)\n",
    "y_interp1 = linear_interpolation(x)\n",
    "\n",
    "cubic_interpolation = interp1d(n, y_meas, kind='cubic')\n",
    "y_interp2 = cubic_interpolation(x)"
   ]
  },
  {
   "cell_type": "code",
   "execution_count": null,
   "metadata": {},
   "outputs": [],
   "source": [
    "from scipy.interpolate import barycentric_interpolate, BarycentricInterpolator\n",
    "# BarycentricInterpolator??"
   ]
  },
  {
   "cell_type": "code",
   "execution_count": null,
   "metadata": {},
   "outputs": [],
   "source": [
    "plt.figure()\n",
    "plt.plot(n, y_meas, 'bs', label='noisy data')\n",
    "plt.plot(x, y_real, 'k', lw=2, label='true function')\n",
    "plt.plot(x, y_interp1, 'r', label='linear interp')\n",
    "plt.plot(x, y_interp2, 'g', label='cubic interp')\n",
    "plt.legend(loc=3)\n",
    "plt.show()"
   ]
  },
  {
   "cell_type": "markdown",
   "metadata": {},
   "source": [
    "### Images"
   ]
  },
  {
   "cell_type": "code",
   "execution_count": null,
   "metadata": {},
   "outputs": [],
   "source": [
    "from scipy import ndimage, misc\n",
    "img = misc.face()\n",
    "type(img), img.dtype, img.ndim, img.shape"
   ]
  },
  {
   "cell_type": "code",
   "execution_count": null,
   "metadata": {},
   "outputs": [],
   "source": [
    "2**8  # uint8-> code sur 256 niveau."
   ]
  },
  {
   "cell_type": "code",
   "execution_count": null,
   "metadata": {},
   "outputs": [],
   "source": [
    "n_1 , n_2, n_3 = img.shape\n",
    "np.unique(img)"
   ]
  },
  {
   "cell_type": "code",
   "execution_count": null,
   "metadata": {},
   "outputs": [],
   "source": [
    "plt.figure()\n",
    "plt.imshow(img)\n",
    "plt.axis('off')\n",
    "plt.show()"
   ]
  },
  {
   "cell_type": "code",
   "execution_count": null,
   "metadata": {},
   "outputs": [],
   "source": [
    "fig, ax = plt.subplots(3, 2)\n",
    "fig.set_size_inches(9, 6.5)\n",
    "n_1 , n_2, n_3 = img.shape\n",
    "\n",
    "ax[0, 0].imshow(img[:, :, 0], cmap=plt.cm.Reds)\n",
    "ax[0, 1].hist(img[:, :, 0].reshape(n_1 * n_2), np.arange(0,256))\n",
    "\n",
    "ax[1, 0].imshow(img[:, :, 1], cmap=plt.cm.Greens)\n",
    "ax[1, 1].hist(img[:, :, 1].reshape(n_1 * n_2), np.arange(0,256))\n",
    "\n",
    "ax[2, 0].imshow(img[:, :, 2], cmap=plt.cm.Blues)\n",
    "ax[2, 1].hist(img[:, :, 2].reshape(n_1 * n_2), np.arange(0,256))\n",
    "\n",
    "plt.tight_layout()"
   ]
  },
  {
   "cell_type": "code",
   "execution_count": null,
   "metadata": {},
   "outputs": [],
   "source": [
    "print(img.flags)  #cannot edit...\n",
    "img_compressed = img.copy()\n",
    "img_compressed.setflags(write=1)\n",
    "print(img_compressed.flags)  #can edit now"
   ]
  },
  {
   "cell_type": "code",
   "execution_count": null,
   "metadata": {},
   "outputs": [],
   "source": [
    "img_compressed[img_compressed < 70] = 50\n",
    "img_compressed[(img_compressed >= 70) & (img_compressed < 110)] = 100\n",
    "img_compressed[(img_compressed >= 110) & (img_compressed < 180)] = 150\n",
    "img_compressed[(img_compressed >= 180)] = 200\n",
    "plt.figure()\n",
    "plt.imshow(img_compressed, cmap=plt.cm.gray)\n",
    "plt.axis('off')\n",
    "plt.show()"
   ]
  },
  {
   "cell_type": "markdown",
   "metadata": {},
   "source": [
    "Ajout d'un flou"
   ]
  },
  {
   "cell_type": "code",
   "execution_count": null,
   "metadata": {},
   "outputs": [],
   "source": [
    "img_flou = ndimage.gaussian_filter(img, sigma=40)\n",
    "plt.figure()\n",
    "plt.imshow(img_flou, cmap=plt.cm.gray)\n",
    "plt.axis('off')\n",
    "plt.show()"
   ]
  },
  {
   "cell_type": "markdown",
   "metadata": {},
   "source": [
    "Conversion de l'image en niveaux de gris et affichage:"
   ]
  },
  {
   "cell_type": "code",
   "execution_count": null,
   "metadata": {},
   "outputs": [],
   "source": [
    "plt.figure()\n",
    "plt.imshow(np.mean(img, axis=2), cmap=plt.cm.gray)\n",
    "plt.show()"
   ]
  },
  {
   "cell_type": "markdown",
   "metadata": {},
   "source": [
    "### <font color='red'> EXERCISE : Color</font>\n",
    "Change the color of the flag to make it frenchier (e.g. use blue, white, red)"
   ]
  },
  {
   "cell_type": "code",
   "execution_count": null,
   "metadata": {},
   "outputs": [],
   "source": [
    "img = (255 * plt.imread('https://upload.wikimedia.org/wikipedia/en/thumb/0/05/Flag_of_Brazil.svg/486px-Flag_of_Brazil.svg.png')).astype(np.int)\n",
    "\n",
    "plt.figure()\n",
    "plt.imshow(img)\n",
    "plt.show()"
   ]
  },
  {
   "cell_type": "code",
   "execution_count": null,
   "metadata": {},
   "outputs": [],
   "source": [
    "fig, ax = plt.subplots(3, 2)\n",
    "fig.set_size_inches(9, 6.5)\n",
    "n_1, n_2, n_3 = img.shape\n",
    "\n",
    "ax[0, 0].imshow(img[:, :, 0], cmap=plt.cm.Reds)\n",
    "ax[0, 1].hist(img[:, :, 0].reshape(n_1 * n_2), np.arange(0, 256), density=True)\n",
    "\n",
    "ax[1, 0].imshow(img[:, :, 1], cmap=plt.cm.Greens)\n",
    "ax[1, 1].hist(img[:, :, 1].reshape(n_1 * n_2), np.arange(0, 256), density=True)\n",
    "\n",
    "ax[2, 0].imshow(img[:, :, 2], cmap=plt.cm.Blues)\n",
    "ax[2, 1].hist(img[:, :, 2].reshape(n_1 * n_2), np.arange(0, 256), density=True)\n",
    "\n",
    "plt.tight_layout()"
   ]
  },
  {
   "cell_type": "code",
   "execution_count": null,
   "metadata": {},
   "outputs": [],
   "source": [
    "# colors levels\n",
    "img = (255 * plt.imread('https://upload.wikimedia.org/wikipedia/en/thumb/0/05/Flag_of_Brazil.svg/486px-Flag_of_Brazil.svg.png')).astype(np.int)\n",
    "img =img.copy()\n",
    "plt.figure()\n",
    "\n",
    "find_white_green = img[:, :, 1] > 200 # center\n",
    "find_light_green = (img[:, :, 1] <=200)*(img[:, :, 1]>50)  # center\n",
    "find_dark_green = img[:, :, 1] <= 50 # center\n",
    "\n",
    "\n",
    "# red part\n",
    "img[:, :, 0][find_dark_green] = 255\n",
    "img[:, :, 1][find_dark_green] = 0\n",
    "img[:, :, 2][find_dark_green] = 0\n",
    "\n",
    "\n",
    "#  white part\n",
    "img[:, :, 0][find_white_green] = 255\n",
    "img[:, :, 1][find_white_green] = 255\n",
    "img[:, :, 2][find_white_green] = 255\n",
    "\n",
    "# blue part\n",
    "img[:, :, 0][find_light_green] = 0\n",
    "img[:, :, 1][find_light_green] = 0\n",
    "img[:, :, 2][find_light_green] = 255\n",
    "\n",
    "plt.imshow(img)\n",
    "plt.show()"
   ]
  },
  {
   "cell_type": "markdown",
   "metadata": {},
   "source": [
    "# More for colors/ images:\n",
    "http://josephsalmon.eu/enseignement/Montpellier/HLMA310/matplotlib_slides.pdf\n"
   ]
  },
  {
   "cell_type": "markdown",
   "metadata": {},
   "source": [
    "## Discrete Fourrier Transform / Fast Fourier Transform (FFT)\n",
    "\n",
    "SciPy uses the library [FFTPACK](http://www.netlib.org/fftpack/) written in FORTRAN.\n",
    "\n",
    "Help on FFT (in French): https://courspython.com/fft-introduction.html"
   ]
  },
  {
   "cell_type": "code",
   "execution_count": null,
   "metadata": {},
   "outputs": [],
   "source": [
    "from scipy import fftpack"
   ]
  },
  {
   "cell_type": "markdown",
   "metadata": {},
   "source": [
    "Nous allons calculer les transformées de Fourier discrètes de fonctions spéciales:"
   ]
  },
  {
   "cell_type": "code",
   "execution_count": null,
   "metadata": {},
   "outputs": [],
   "source": [
    "from scipy.signal import gausspulse\n",
    "\n",
    "t = np.linspace(-1, 1, 1000)\n",
    "x = gausspulse(t, fc=20, bw=0.5)\n",
    "\n",
    "#  Compute FFT\n",
    "F = fftpack.fft(x)\n",
    "\n",
    "from cmath import phase\n",
    "# calcul des fréquences en Hz si on suppose un échantillonage à 1000Hz\n",
    "freqs = fftpack.fftfreq(len(x), 1. / 1000.)\n",
    "fig, axes = plt.subplots(1, 2, figsize=(12,4))\n",
    "axes[0].plot(t, x) # plot du signal\n",
    "axes[0].set_ylim([-2, 2])\n",
    "axes[0].set_xlabel('Time series (s)')\n",
    "\n",
    "axes[1].plot(freqs, np.abs(F)) # plot du module de la TFD\n",
    "axes[1].set_xlim([0, 200])\n",
    "axes[1].set_xlabel('Freq (Hz)')\n",
    "axes[1].set_ylabel('|FFT|')\n",
    "\n",
    "# mask = (freqs > 0) & (freqs < 200)\n",
    "\n",
    "plt.show()"
   ]
  },
  {
   "cell_type": "markdown",
   "metadata": {},
   "source": [
    "### <font color='red'> EXERCISE : FFT</font>\n",
    "\n",
    "Le signal est réel du coup la FFT est symétrique.\n",
    "\n",
    "Afficher la TFD restreinte aux fréquences positives et la TFD restreinte aux fréquences entre 0 et 200Hz."
   ]
  },
  {
   "cell_type": "markdown",
   "metadata": {},
   "source": [
    "## Pour aller plus loin\n",
    "\n",
    "* http://www.scipy.org - The official web page for the SciPy project.\n",
    "* http://docs.scipy.org/doc/scipy/reference/tutorial/index.html - A tutorial on how to get started using SciPy. \n",
    "* https://github.com/scipy/scipy/ - The SciPy source code. \n",
    "* http://scipy-lectures.github.io\n"
   ]
  }
 ],
 "metadata": {
  "hide_input": false,
  "kernelspec": {
   "display_name": "Python 3",
   "language": "python",
   "name": "python3"
  },
  "language_info": {
   "codemirror_mode": {
    "name": "ipython",
    "version": 3
   },
   "file_extension": ".py",
   "mimetype": "text/x-python",
   "name": "python",
   "nbconvert_exporter": "python",
   "pygments_lexer": "ipython3",
   "version": "3.7.3"
  },
  "toc": {
   "base_numbering": 1,
   "nav_menu": {},
   "number_sections": false,
   "sideBar": true,
   "skip_h1_title": false,
   "title_cell": "Table of Contents",
   "title_sidebar": "Contents",
   "toc_cell": false,
   "toc_position": {
    "height": "calc(100% - 180px)",
    "left": "10px",
    "top": "150px",
    "width": "274.667px"
   },
   "toc_section_display": true,
   "toc_window_display": true
  }
 },
 "nbformat": 4,
 "nbformat_minor": 1
}
